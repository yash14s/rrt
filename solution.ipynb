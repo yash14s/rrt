{
 "cells": [
  {
   "cell_type": "code",
   "execution_count": 1,
   "id": "365a43a4",
   "metadata": {},
   "outputs": [],
   "source": [
    "import fcl as fcl\n",
    "import numpy as np\n",
    "import networkx as nx\n",
    "import random\n",
    "import matplotlib.pyplot as plt\n",
    "import math"
   ]
  },
  {
   "cell_type": "code",
   "execution_count": 2,
   "id": "27345cb4",
   "metadata": {},
   "outputs": [],
   "source": [
    "# Boxes with given side lengths\n",
    "geom1 = fcl.Box(1.0, 1.0, 1.0) \n",
    "tf1 = fcl.Transform(np.array([2.0, 2.0, 0.5]))\n",
    "obj1 = fcl.CollisionObject(geom1, tf1)\n",
    "\n",
    "geom2 = fcl.Box(1.0, 1.0, 1.0)\n",
    "tf2 = fcl.Transform(np.array([5.0, 3.0, 0.5]))\n",
    "obj2 = fcl.CollisionObject(geom2, tf2)\n",
    "\n",
    "geom3 = fcl.Box(1.0, 1.0, 1.0)\n",
    "tf3 = fcl.Transform(np.array([0.5, 4.5, 0.5]))\n",
    "obj3 = fcl.CollisionObject(geom3, tf3)\n",
    "\n",
    "geom4 = fcl.Box(1.0, 1.0, 1.0)\n",
    "tf4 = fcl.Transform(np.array([7.0, 3.0, 0.5]))\n",
    "obj4 = fcl.CollisionObject(geom4, tf4)\n",
    "\n",
    "geom5 = fcl.Box(1.0, 1.0, 1.0)\n",
    "tf5 = fcl.Transform(np.array([4.0, 6.0, 0.5]))\n",
    "obj5 = fcl.CollisionObject(geom5, tf5)\n",
    "\n",
    "\n",
    "# Cylinder with given radius and height along z-axis\n",
    "geom6 = fcl.Cylinder(0.5, 1.0)\n",
    "tf6 = fcl.Transform(np.array([6.0, 0.5, 0.5]))\n",
    "obj6 = fcl.CollisionObject(geom6, tf6)\n",
    "\n",
    "geom7 = fcl.Cylinder(0.5, 1.0)\n",
    "tf7 = fcl.Transform(np.array([3.0, 5.0, 0.5]))\n",
    "obj7 = fcl.CollisionObject(geom7, tf7)\n",
    "\n",
    "# Fetch will be model as a Cylinder when the arm is folded in. We will over dimension the \n",
    "# cylinder with a radius of 0.4 m\n",
    "geom_robot = fcl.Cylinder(0.4, 1.5)\n",
    "tf_robot = fcl.Transform(np.array([0.0, 0.0, 0.75]))\n",
    "obj_robot = fcl.CollisionObject(geom_robot, tf_robot)"
   ]
  },
  {
   "cell_type": "code",
   "execution_count": 3,
   "id": "b1073e0f",
   "metadata": {},
   "outputs": [],
   "source": [
    "geoms = [geom1, geom2, geom3, geom4, geom5, geom6, geom7, geom_robot]\n",
    "objs = [obj1, obj2, obj3, obj4, obj5, obj6, obj7, obj_robot]\n",
    "names = ['obj1', 'obj2', 'obj3', 'obj4', 'obj5', 'obj6', 'obj7', 'obj_robot']\n",
    "\n",
    "# Create map from geometry IDs to objects\n",
    "geom_id_to_obj = { id(geom) : obj for geom, obj in zip(geoms, objs) }\n",
    "\n",
    "# Create map from geometry IDs to string names\n",
    "geom_id_to_name = { id(geom) : name for geom, name in zip(geoms, names) }\n",
    "\n",
    "# Create manager\n",
    "manager = fcl.DynamicAABBTreeCollisionManager()\n",
    "manager.registerObjects(objs)\n",
    "manager.setup()\n"
   ]
  },
  {
   "cell_type": "code",
   "execution_count": 4,
   "id": "55550ec8",
   "metadata": {},
   "outputs": [],
   "source": [
    "# We define the world limits\n",
    "world_x_lim = [-0.5, 8.5]\n",
    "world_y_lim = [-0.5, 8.5]\n",
    "max_dist = 10\n",
    "\n",
    "G = nx.Graph()\n",
    "\n",
    "n_count = 0\n",
    "G.add_node(n_count)\n",
    "G.nodes[n_count]['pos'] = (0, 0)\n",
    "\n",
    "goal = (8, 8)\n",
    "min_goal = 0.3\n",
    "\n",
    "step_size = 1"
   ]
  },
  {
   "cell_type": "code",
   "execution_count": 5,
   "id": "01a4ffa0",
   "metadata": {},
   "outputs": [],
   "source": [
    "def generate_random_node():\n",
    "    x = random.uniform(world_x_lim[0], world_x_lim[1])\n",
    "    y = random.uniform(world_y_lim[0], world_y_lim[1])\n",
    "    return (x, y)"
   ]
  },
  {
   "cell_type": "code",
   "execution_count": 6,
   "id": "5504c6ad",
   "metadata": {},
   "outputs": [],
   "source": [
    "def nearest_neighbor(node):\n",
    "    dist = np.zeros(len(G.nodes()))\n",
    "    for i in range(len(G.nodes())):\n",
    "        dist[i] = math.dist(node, G.nodes[i]['pos'])\n",
    "\n",
    "    min_dist = np.min(dist) \n",
    "    nearest_neighbor_node = np.argmin(dist)\n",
    "    nearest_neighbor_coords = G.nodes[nearest_neighbor_node]['pos']\n",
    "    return (nearest_neighbor_node, nearest_neighbor_coords)"
   ]
  },
  {
   "cell_type": "code",
   "execution_count": 8,
   "id": "bb6c8041",
   "metadata": {},
   "outputs": [],
   "source": [
    "def collision_free(point):\n",
    "    \n",
    "    collision = False\n",
    "    \n",
    "    # We create a cylinder object for the robot and place it on the new position.\n",
    "    # Then we clear the manager, load all the objects again\n",
    "    tf_robot = fcl.Transform(np.array([point[0], point[1], 0.75]))\n",
    "    obj_robot = fcl.CollisionObject(geom_robot, tf_robot)\n",
    "    manager.clear()\n",
    "    manager.registerObjects([obj1, obj2, obj3, obj4, obj5, obj6, obj7, obj_robot])\n",
    "\n",
    "    \n",
    "    # We create a collision request structure and run the collision request\n",
    "    crequest = fcl.CollisionRequest(num_max_contacts=100, enable_contact=True)\n",
    "    cdata = fcl.CollisionData(crequest, fcl.CollisionResult())\n",
    "    manager.collide(cdata, fcl.defaultCollisionCallback)\n",
    "\n",
    "    # Extract collision data from contacts and use that to infer set of\n",
    "    # objects that are in collision\n",
    "    objs_in_collision = set()\n",
    "\n",
    "    # We check for all object in collision and add the to a list\n",
    "    for contact in cdata.result.contacts:\n",
    "      # Extract collision geometries that are in contact\n",
    "      coll_geom_0 = contact.o1\n",
    "      coll_geom_1 = contact.o2\n",
    "\n",
    "      # Get their names\n",
    "      coll_names = [geom_id_to_name[id(coll_geom_0)], geom_id_to_name[id(coll_geom_1)]]\n",
    "      coll_names = tuple(sorted(coll_names))\n",
    "      objs_in_collision.add(coll_names)\n",
    "      collision = True\n",
    "\n",
    "    # This is the list of all objects in collision\n",
    "    #for coll_pair in objs_in_collision:\n",
    "      #print('Object {} in collision with object {}!'.format(coll_pair[0], coll_pair[1]))\n",
    "    \n",
    "    if len(objs_in_collision) == 0:\n",
    "        return True\n",
    "    return False\n",
    "    "
   ]
  },
  {
   "cell_type": "code",
   "execution_count": 10,
   "id": "041eed20",
   "metadata": {},
   "outputs": [],
   "source": [
    "def new_state(p1, p2):\n",
    "    dist = math.dist(p1, p2)\n",
    "    if dist < step_size:\n",
    "        return p2\n",
    "    else:\n",
    "        x = p1[0] + step_size * (p2[0] - p1[0]) / dist\n",
    "        y = p1[1] + step_size * (p2[1] - p1[1]) / dist\n",
    "        return (x, y)"
   ]
  },
  {
   "cell_type": "code",
   "execution_count": 11,
   "id": "88754052",
   "metadata": {},
   "outputs": [],
   "source": [
    "def plan():\n",
    "    max_iter = 1000\n",
    "    n_count = 1\n",
    "    while True:\n",
    "        rand_node = generate_random_node()\n",
    "        nearest_node, nearest_node_coords = nearest_neighbor(rand_node)\n",
    "        new_node = new_state(nearest_node_coords, rand_node)\n",
    "        if collision_free(new_node):\n",
    "            G.add_node(n_count)\n",
    "            G.nodes[n_count]['pos'] = new_node\n",
    "            G.add_edge(nearest_node, n_count)\n",
    "            n_count += 1\n",
    "            if math.dist(new_node, goal) <= step_size:\n",
    "                G.add_node(n_count)\n",
    "                G.nodes[n_count]['pos'] = (goal[0], goal[1])\n",
    "                G.add_edge(n_count-1, n_count)\n",
    "                return nx.shortest_path(G, 0, n_count)\n",
    "\n",
    "    #If no path found\n",
    "    return None"
   ]
  },
  {
   "cell_type": "code",
   "execution_count": 12,
   "id": "8de0ec68",
   "metadata": {
    "scrolled": true
   },
   "outputs": [
    {
     "data": {
      "image/png": "[encoded data removed]",
      "text/plain": [
       "<Figure size 640x480 with 1 Axes>"
      ]
     },
     "metadata": {},
     "output_type": "display_data"
    },
    {
     "name": "stdout",
     "output_type": "stream",
     "text": [
      "Shortest Path\n",
      "n_count: 56\n",
      "nodes: [0, 1, 2, 4, 5, 7, 11, 12, 14, 17, 23, 24, 25, 33, 53, 54, 55]\n"
     ]
    }
   ],
   "source": [
    "plt.axes()\n",
    "square1 = plt.Rectangle((1.5,1.5),1,1, fill=False, edgecolor='blue')\n",
    "square2 = plt.Rectangle((4.5,2.5),1,1, fill=False, edgecolor='blue')\n",
    "square3 = plt.Rectangle((0,4),1,1, fill=False, edgecolor='blue')\n",
    "square4 = plt.Rectangle((6.5,2.5),1,1, fill=False, edgecolor='blue')\n",
    "square5 = plt.Rectangle((3.5,5.5),1,1, fill=False, edgecolor='blue')\n",
    "circ1 = plt.Circle((6,0.5), radius=0.5, fill=False, edgecolor='blue')\n",
    "circ2 = plt.Circle((3,5), radius=0.5, fill=False, edgecolor='blue')\n",
    "circ_goal = plt.Circle(goal, radius=min_goal, fill=False, edgecolor='green')\n",
    "plt.gca().add_patch(square1)\n",
    "plt.gca().add_patch(square2)\n",
    "plt.gca().add_patch(square3)\n",
    "plt.gca().add_patch(square4)\n",
    "plt.gca().add_patch(square5)\n",
    "plt.gca().add_patch(circ1)\n",
    "plt.gca().add_patch(circ2)\n",
    "plt.gca().add_patch(circ_goal)\n",
    "\n",
    "p = plan()\n",
    "\n",
    "n_count = len(G.nodes())\n",
    "\n",
    "nodes = []\n",
    "for i in range(n_count):\n",
    "    nodes.append(list(G.nodes[i]['pos']))\n",
    "    \n",
    "nx.draw_networkx_nodes(G, nodes, node_size = 30, node_color='r', alpha=0.4)\n",
    "nx.draw_networkx_edges(G,nodes)\n",
    "\n",
    "plt.show()\n",
    "\n",
    "print('Shortest Path')\n",
    "print('n_count: {}'.format(n_count))\n",
    "print('nodes: {}'.format(p))"
   ]
  }
 ],
 "metadata": {
  "kernelspec": {
   "display_name": "Python 3 (ipykernel)",
   "language": "python",
   "name": "python3"
  },
  "language_info": {
   "codemirror_mode": {
    "name": "ipython",
    "version": 3
   },
   "file_extension": ".py",
   "mimetype": "text/x-python",
   "name": "python",
   "nbconvert_exporter": "python",
   "pygments_lexer": "ipython3",
   "version": "3.10.9"
  }
 },
 "nbformat": 4,
 "nbformat_minor": 5
}
